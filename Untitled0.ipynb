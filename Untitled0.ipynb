{
  "nbformat": 4,
  "nbformat_minor": 0,
  "metadata": {
    "colab": {
      "name": "Untitled0.ipynb",
      "provenance": [],
      "authorship_tag": "ABX9TyPY6LtoKywJNEnE87tSyytX",
      "include_colab_link": true
    },
    "kernelspec": {
      "name": "python3",
      "display_name": "Python 3"
    },
    "language_info": {
      "name": "python"
    }
  },
  "cells": [
    {
      "cell_type": "markdown",
      "metadata": {
        "id": "view-in-github",
        "colab_type": "text"
      },
      "source": [
        "<a href=\"https://colab.research.google.com/github/Ele2000/Chapter-5-/blob/main/Untitled0.ipynb\" target=\"_parent\"><img src=\"https://colab.research.google.com/assets/colab-badge.svg\" alt=\"Open In Colab\"/></a>"
      ]
    },
    {
      "cell_type": "code",
      "execution_count": null,
      "metadata": {
        "id": "FbAtfjIdLWoV"
      },
      "outputs": [],
      "source": [
        ""
      ]
    },
    {
      "cell_type": "markdown",
      "source": [
        "ex: 5.1"
      ],
      "metadata": {
        "id": "4k796o8nLZ6-"
      }
    },
    {
      "cell_type": "code",
      "source": [
        "car = 'Chevrolet'\n",
        "print (\"Is car == 'Chevrolet'? i predict True.\")\n",
        "print (car == 'Chevrolet')\n",
        "\n",
        "print (\"\\nIs car = 'Mercedes-Benz'? I predict Fales\")\n",
        "print (car == 'Mercedes-Benz')\n",
        "\n",
        "print (\"\\nIs car == 'Chevrolet'? i predict false\")\n",
        "print (car == 'Chevrolet')\n",
        "\n",
        "print (\"\\ncar == 'Chevrolet'? i think so\")\n",
        "print (car.lower() == 'Chevrolet')\n"
      ],
      "metadata": {
        "colab": {
          "base_uri": "https://localhost:8080/"
        },
        "id": "Tx7pIrmDLc-8",
        "outputId": "13e36073-16cd-471c-f349-8208cd307343"
      },
      "execution_count": 1,
      "outputs": [
        {
          "output_type": "stream",
          "name": "stdout",
          "text": [
            "Is car == 'Chevrolet'? i predict True.\n",
            "True\n",
            "\n",
            "Is car = 'Mercedes-Benz'? I predict Fales\n",
            "False\n",
            "\n",
            "Is car == 'Chevrolet'? i predict false\n",
            "True\n",
            "\n",
            "car == 'Chevrolet'? i think so\n",
            "False\n"
          ]
        }
      ]
    },
    {
      "cell_type": "markdown",
      "source": [
        "ex: 5.2"
      ],
      "metadata": {
        "id": "LAcczcRrMGgl"
      }
    },
    {
      "cell_type": "code",
      "source": [
        "car = 'Chevrolet'\n",
        "number = 22\n",
        "string = 'What a wonderful day.'\n",
        "\n",
        "print (\"Is car == 'Chevrolet'? I predict True.\")\n",
        "print (car == 'Chevrolet')\n",
        "\n",
        "print (\"\\nIs car == 'Mercedes-Benz'? I predict False.\")\n",
        "print (car == 'Mercedes-Benz')\n",
        "\n",
        "print (\"\\nIs number == 22? I predict True.\")\n",
        "print (number == 22)\n",
        "\n",
        "print (\"\\nIs number != 22? I predict False\")\n",
        "print (number != 22)\n",
        "\n",
        "print (\"\\nIs car == 'Chevrolet' and number == 22? I predict True.\")\n",
        "print (car == 'Chevrolet' and number == 22)\n",
        "\n",
        "print (\"\\nIs car == 'Mercedes-Benz' and number == 22? I predict False.\")\n",
        "print (car == 'Mercedes-Benz' and number == 22)\n",
        "\n",
        "print (\"\\nIs car == 'Mercedes-Benz' and number == 22? I predict True.\")\n",
        "print (car == 'Mercedes-Benz' or number == 22)"
      ],
      "metadata": {
        "colab": {
          "base_uri": "https://localhost:8080/"
        },
        "id": "kMzXds5cMIop",
        "outputId": "affea6f2-b764-4de1-d183-7867420536d2"
      },
      "execution_count": 2,
      "outputs": [
        {
          "output_type": "stream",
          "name": "stdout",
          "text": [
            "Is car == 'Chevrolet'? I predict True.\n",
            "True\n",
            "\n",
            "Is car == 'Mercedes-Benz'? I predict False.\n",
            "False\n",
            "\n",
            "Is number == 22? I predict True.\n",
            "True\n",
            "\n",
            "Is number != 22? I predict False\n",
            "False\n",
            "\n",
            "Is car == 'Chevrolet' and number == 22? I predict True.\n",
            "True\n",
            "\n",
            "Is car == 'Mercedes-Benz' and number == 22? I predict False.\n",
            "False\n",
            "\n",
            "Is car == 'Mercedes-Benz' and number == 22? I predict True.\n",
            "True\n"
          ]
        }
      ]
    },
    {
      "cell_type": "markdown",
      "source": [
        "ex: 5.3"
      ],
      "metadata": {
        "id": "_a1Dw5vBMTon"
      }
    },
    {
      "cell_type": "code",
      "source": [
        "alien_color = 'green'\n",
        "if alien_color == 'green':\n",
        "    print ('wonderful you just earned 5 points.')\n",
        "\n",
        "alien_color = 'green'\n",
        "if alien_color == 'pink':\n",
        "    print ('wonderful you just earned 5 points.')"
      ],
      "metadata": {
        "colab": {
          "base_uri": "https://localhost:8080/"
        },
        "id": "Fsoya8g0MVTo",
        "outputId": "c98d047e-cf41-4ba3-e426-53d92ca26f6a"
      },
      "execution_count": 3,
      "outputs": [
        {
          "output_type": "stream",
          "name": "stdout",
          "text": [
            "wonderful you just earned 5 points.\n"
          ]
        }
      ]
    },
    {
      "cell_type": "markdown",
      "source": [
        "ex: 5.4"
      ],
      "metadata": {
        "id": "NqBKtppsMdQX"
      }
    },
    {
      "cell_type": "code",
      "source": [
        "alien_color = 'green'\n",
        "if alien_color == 'green':\n",
        "    print ('wonderful you just earned 5 points.')\n",
        "else:\n",
        "    print ('wonderful you just earned 10 points.')\n",
        "\n",
        "\n",
        "alien_color = 'green'\n",
        "if alien_color == 'pink':\n",
        "    print ('wonderful you just earned 5 points.')\n",
        "else:\n",
        "    print ('wonderful you just earned 10 points.')"
      ],
      "metadata": {
        "colab": {
          "base_uri": "https://localhost:8080/"
        },
        "id": "a0RI1R2NMfDN",
        "outputId": "5a763f95-7955-4c44-92c4-f201f9f20e82"
      },
      "execution_count": 4,
      "outputs": [
        {
          "output_type": "stream",
          "name": "stdout",
          "text": [
            "wonderful you just earned 5 points.\n",
            "wonderful you just earned 10 points.\n"
          ]
        }
      ]
    },
    {
      "cell_type": "markdown",
      "source": [
        "ex: 5.5"
      ],
      "metadata": {
        "id": "bJS_eUJoMkYT"
      }
    },
    {
      "cell_type": "code",
      "source": [
        "alien_color = 'green'\n",
        "\n",
        "if alien_color == 'green':\n",
        "    print ('wonderful You just earned 5 points.')\n",
        "elif alien_color == 'pink':\n",
        "    print ('wonderful You just earned 10 points.')\n",
        "else:\n",
        "    print ('wonderful You just earned 15 points.')\n",
        "\n",
        "\n",
        "\n",
        "alien_color = 'green'\n",
        "\n",
        "if alien_color == 'pink':\n",
        "    print ('wonderful You just earned 5 points.')\n",
        "elif alien_color == 'green':\n",
        "    print ('wonderful You just earned 10 points.')\n",
        "else:\n",
        "    print ('wonderful You just earned 15 points.')\n",
        "\n",
        "\n",
        "alien_color = 'black'\n",
        "\n",
        "if alien_color == 'green':\n",
        "    print ('wonderful You just earned 5 points.')\n",
        "elif alien_color == 'pink':\n",
        "    print ('wonderful You just earned 10 points.')\n",
        "else:\n",
        "    print ('wonderful You just earned 15 points.')"
      ],
      "metadata": {
        "colab": {
          "base_uri": "https://localhost:8080/"
        },
        "id": "zQV2Os33MlxQ",
        "outputId": "db473a00-e026-4e8f-f02e-c5b9d347b63a"
      },
      "execution_count": 5,
      "outputs": [
        {
          "output_type": "stream",
          "name": "stdout",
          "text": [
            "wonderful You just earned 5 points.\n",
            "wonderful You just earned 10 points.\n",
            "wonderful You just earned 15 points.\n"
          ]
        }
      ]
    },
    {
      "cell_type": "markdown",
      "source": [
        "ex: 5.6"
      ],
      "metadata": {
        "id": "dWK2ASLmMsNJ"
      }
    },
    {
      "cell_type": "code",
      "source": [
        "age = 73\n",
        "if age <= 2:\n",
        "    print('baby')\n",
        "elif age <= 4:\n",
        "    print('toddler')\n",
        "elif age <= 13:\n",
        "    print('kid')\n",
        "elif age <= 20:\n",
        "    print('teenager')\n",
        "elif age <= 65:\n",
        "    print('adult')\n",
        "else:\n",
        "    print('elder')\n",
        "\n",
        "age = 19\n",
        "if age <= 2:\n",
        "    print('baby')\n",
        "elif age <= 4:\n",
        "    print('toddler')\n",
        "elif age <= 13:\n",
        "    print('kid')\n",
        "elif age <= 20:\n",
        "    print('teenager')\n",
        "elif age <= 65:\n",
        "    print('adult')\n",
        "else:\n",
        "    print('elder')"
      ],
      "metadata": {
        "colab": {
          "base_uri": "https://localhost:8080/"
        },
        "id": "g3eqFiIVMt30",
        "outputId": "6cb12826-a9bd-4389-df61-25dde1ab2da4"
      },
      "execution_count": 6,
      "outputs": [
        {
          "output_type": "stream",
          "name": "stdout",
          "text": [
            "elder\n",
            "teenager\n"
          ]
        }
      ]
    },
    {
      "cell_type": "markdown",
      "source": [
        "ex: 5.7"
      ],
      "metadata": {
        "id": "t-WjMWtvM3G9"
      }
    },
    {
      "cell_type": "code",
      "source": [
        "favorite_fruits = ['banana', 'grapes', 'orange']\n",
        "\n",
        "\n",
        "if 'apple' in favorite_fruits:\n",
        "    print(f'Do you realy like apple')\n",
        "\n",
        "if 'banana' in favorite_fruits:\n",
        "    print(f'Do you realy like banana')\n",
        "    \n",
        "if 'peach' in favorite_fruits:\n",
        "    print(f'Do you realy like peach')\n",
        "\n",
        "if 'grapes' in favorite_fruits:\n",
        "    print(f'Do you realy like grapes')\n",
        "\n",
        "if 'orange' in favorite_fruits:\n",
        "    print(f'Do you realy like orange')"
      ],
      "metadata": {
        "colab": {
          "base_uri": "https://localhost:8080/"
        },
        "id": "vDEFMj5iM4yO",
        "outputId": "e0ecec06-d9cc-417f-f139-4b0148c1829e"
      },
      "execution_count": 7,
      "outputs": [
        {
          "output_type": "stream",
          "name": "stdout",
          "text": [
            "Do you realy like banana\n",
            "Do you realy like grapes\n",
            "Do you realy like orange\n"
          ]
        }
      ]
    },
    {
      "cell_type": "markdown",
      "source": [
        "ex: 5.8"
      ],
      "metadata": {
        "id": "sS1cG0lTM-DN"
      }
    },
    {
      "cell_type": "code",
      "source": [
        "usernames = ['Saliko', 'Lizako', 'Toko100', 'Likuna', 'Nanka1']\n",
        "\n",
        "for user in usernames:\n",
        "    if user == 'admin':\n",
        "        print(f'Hello {user}, would you like to see a status report?')\n",
        "    else:\n",
        "        print(f'Hello {user}')"
      ],
      "metadata": {
        "colab": {
          "base_uri": "https://localhost:8080/"
        },
        "id": "R2SjC-BxNAMo",
        "outputId": "8e55e5e6-bc9a-4121-aa27-71348056ab06"
      },
      "execution_count": 8,
      "outputs": [
        {
          "output_type": "stream",
          "name": "stdout",
          "text": [
            "Hello Saliko\n",
            "Hello Lizako\n",
            "Hello Toko100\n",
            "Hello Likuna\n",
            "Hello Nanka1\n"
          ]
        }
      ]
    },
    {
      "cell_type": "markdown",
      "source": [
        "ex: 5.9"
      ],
      "metadata": {
        "id": "oyG-5owVNF-U"
      }
    },
    {
      "cell_type": "code",
      "source": [
        "usernames = [ ]\n",
        "\n",
        "if usernames:\n",
        "    for user in usernames:\n",
        "        print(f'Hello {user}')\n",
        "else:\n",
        "    print('We have to find some users!')"
      ],
      "metadata": {
        "colab": {
          "base_uri": "https://localhost:8080/"
        },
        "id": "Z8HWNuf_NHQ7",
        "outputId": "60736303-45dd-4bf9-e32e-2a1259d6c1fa"
      },
      "execution_count": 9,
      "outputs": [
        {
          "output_type": "stream",
          "name": "stdout",
          "text": [
            "We have to find some users!\n"
          ]
        }
      ]
    },
    {
      "cell_type": "markdown",
      "source": [
        "ex: 5.10"
      ],
      "metadata": {
        "id": "xV4eTkHYNMfJ"
      }
    },
    {
      "cell_type": "code",
      "source": [
        "current_users = ['Irinka1', 'Lizako', 'Toko100', 'Ika5', 'Guga123']\n",
        "new_users = ['Saliko', 'Lizako', 'Toko100', 'Likuna', 'Nanka1']\n",
        "\n",
        "for new_user in new_users:\n",
        "    if new_user.lower() in current_users:\n",
        "        print(f'The username \"{new_user}\" is not available, please choose other.')\n",
        "    else:\n",
        "        print(f'Username {new_user} is available.')"
      ],
      "metadata": {
        "colab": {
          "base_uri": "https://localhost:8080/"
        },
        "id": "sdwJje76NN8B",
        "outputId": "4e3d536f-7acd-475a-f9c7-498a8d53f7bc"
      },
      "execution_count": 10,
      "outputs": [
        {
          "output_type": "stream",
          "name": "stdout",
          "text": [
            "Username Saliko is available.\n",
            "Username Lizako is available.\n",
            "Username Toko100 is available.\n",
            "Username Likuna is available.\n",
            "Username Nanka1 is available.\n"
          ]
        }
      ]
    },
    {
      "cell_type": "markdown",
      "source": [
        "ex: 5.11"
      ],
      "metadata": {
        "id": "TbCtIyhdNSYZ"
      }
    },
    {
      "cell_type": "code",
      "source": [
        "numbers = [1,2,3,4,5,6,7,8,9]\n",
        "\n",
        "for number in numbers:\n",
        "    if number == 1:\n",
        "        print(f'{number}st')\n",
        "    elif number == 2:\n",
        "        print(f'{number}nd')\n",
        "    elif number == 3:\n",
        "        print(f'{number}rd')\n",
        "    else:\n",
        "        print(f'{number}th')"
      ],
      "metadata": {
        "colab": {
          "base_uri": "https://localhost:8080/"
        },
        "id": "lNo6H_zGNTqm",
        "outputId": "8f8200cc-0252-432f-df61-6acac3eb85a6"
      },
      "execution_count": 11,
      "outputs": [
        {
          "output_type": "stream",
          "name": "stdout",
          "text": [
            "1st\n",
            "2nd\n",
            "3rd\n",
            "4th\n",
            "5th\n",
            "6th\n",
            "7th\n",
            "8th\n",
            "9th\n"
          ]
        }
      ]
    }
  ]
}